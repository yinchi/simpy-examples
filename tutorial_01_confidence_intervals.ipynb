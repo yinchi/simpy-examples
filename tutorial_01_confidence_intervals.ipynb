{
  "nbformat": 4,
  "nbformat_minor": 0,
  "metadata": {
    "colab": {
      "name": "confidence_intervals.ipynb",
      "provenance": []
    },
    "kernelspec": {
      "name": "python3",
      "display_name": "Python 3"
    },
    "language_info": {
      "name": "python"
    }
  },
  "cells": [
    {
      "cell_type": "markdown",
      "metadata": {
        "id": "S4fAA6kpsD1Z"
      },
      "source": [
        "# The $t$-distribution and confidence intervals: an election example"
      ]
    },
    {
      "cell_type": "markdown",
      "metadata": {
        "id": "YuoBpNHysODk"
      },
      "source": [
        "Suppose you want to know the proportion of an electorate that will vote for a certain candidate. (For this example, we will assume there are only two candidates.)  The electorate is too large to ask everybody (this is a poll, not the actual election), so we take samples instead.  Suppose we take $N=10$  samples and the proportion of votes for our candidate (after removing blank/invalid responses) are as follows:"
      ]
    },
    {
      "cell_type": "code",
      "metadata": {
        "id": "6XkQLuOor_kQ"
      },
      "source": [
        "import numpy\n",
        "x = numpy.array([0.53,0.56,0.47,0.50,0.59,0.42,0.65,0.62,0.53,0.56])"
      ],
      "execution_count": 1,
      "outputs": []
    },
    {
      "cell_type": "markdown",
      "metadata": {
        "id": "wEJsZJi5syYr"
      },
      "source": [
        "The sample mean $\\bar{x}$ of the above samples is\n",
        "$$\\bar{x}=\\frac{\\sum_{i=1}^N x_i}{N}$$"
      ]
    },
    {
      "cell_type": "code",
      "metadata": {
        "colab": {
          "base_uri": "https://localhost:8080/"
        },
        "id": "MgrfhY4Ks1la",
        "outputId": "59efc387-abb3-4804-aad3-f868eb9746d6"
      },
      "source": [
        "m = numpy.mean(x)\n",
        "m"
      ],
      "execution_count": 2,
      "outputs": [
        {
          "output_type": "execute_result",
          "data": {
            "text/plain": [
              "0.5429999999999999"
            ]
          },
          "metadata": {},
          "execution_count": 2
        }
      ]
    },
    {
      "cell_type": "markdown",
      "metadata": {
        "id": "C3lGz9T6s4ow"
      },
      "source": [
        "This is larger than 50 percent. But how sure are we that our candidate will actually win the election?"
      ]
    },
    {
      "cell_type": "markdown",
      "metadata": {
        "id": "Lp80rCMTtQLF"
      },
      "source": [
        "Assume that our samples come from a normal distribution with unknown mean and variance.  The sample mean is $\\bar{x}$ which we computed above.  The **sample standard deviation** is\n",
        "$$\\sigma_x=\\sqrt{\\frac{\\sum_{i=1}^N \\left(x_1 - \\bar{x}\\right)^2}{N-1}}$$"
      ]
    },
    {
      "cell_type": "code",
      "metadata": {
        "colab": {
          "base_uri": "https://localhost:8080/"
        },
        "id": "HtoCDzmPu5mo",
        "outputId": "9a2663ed-30a2-4f07-e1e9-f8a674536564"
      },
      "source": [
        "sd = numpy.std(x,ddof=1)\n",
        "sd"
      ],
      "execution_count": 3,
      "outputs": [
        {
          "output_type": "execute_result",
          "data": {
            "text/plain": [
              "0.06896859188548558"
            ]
          },
          "metadata": {},
          "execution_count": 3
        }
      ]
    },
    {
      "cell_type": "markdown",
      "metadata": {
        "id": "BRRBFO_VwVux"
      },
      "source": [
        "Note that the \"ddof\" parameter above stands for \"delta degrees of freedom\", which corresponds to the \"- 1\" term in the above formula."
      ]
    },
    {
      "cell_type": "markdown",
      "metadata": {
        "id": "qJ63G5ZlvDfB"
      },
      "source": [
        "The **standard error of the mean** is\n",
        "$$s_\\bar{x}=\\frac{\\sigma_x}{\\sqrt{N}}$$"
      ]
    },
    {
      "cell_type": "code",
      "metadata": {
        "colab": {
          "base_uri": "https://localhost:8080/"
        },
        "id": "AvDemUuXu-HO",
        "outputId": "7707226e-e0fe-4964-cc14-ce836a0ae382"
      },
      "source": [
        "import scipy.stats\n",
        "sem = scipy.stats.sem(x) # note this defaults to using ddof = 1 when computing\n",
        "                         # the sample standard deviation\n",
        "sem"
      ],
      "execution_count": 4,
      "outputs": [
        {
          "output_type": "execute_result",
          "data": {
            "text/plain": [
              "0.02180978373727412"
            ]
          },
          "metadata": {},
          "execution_count": 4
        }
      ]
    },
    {
      "cell_type": "markdown",
      "metadata": {
        "id": "S7Dc1Jq5xI6E"
      },
      "source": [
        "The construction of a confidence interval is as follows:\n",
        "\n",
        "\n",
        "1.   Construct a **Student's $t$-distribution** with $N-1$ degrees of freedom.\n",
        "2.   Shift the distribution so that its new mean is $\\bar{x}$.\n",
        "3.   Scale the distribution about its mean $\\bar{x}$ by a factor of\n",
        "$s_\\bar{x}$. A value of $x$ in the new distribution now corresponds to a value of $(x-\\bar{x})/s_\\bar{x}$ in the original distribution from Step 1.\n",
        "4.   What interval has an area of 95% (or some other confidence level) of the entire $t$-distribution from Step 3?\n",
        "\n",
        "All of this can be done in a single line of Python:\n",
        "\n"
      ]
    },
    {
      "cell_type": "code",
      "metadata": {
        "colab": {
          "base_uri": "https://localhost:8080/"
        },
        "id": "WiFpgFQdw55P",
        "outputId": "bf47cef9-8377-418d-cda5-652a3c2d2551"
      },
      "source": [
        "scipy.stats.t.interval(0.95,len(x)-1,loc=m,scale=sem)"
      ],
      "execution_count": 5,
      "outputs": [
        {
          "output_type": "execute_result",
          "data": {
            "text/plain": [
              "(0.4936628415008933, 0.5923371584991066)"
            ]
          },
          "metadata": {},
          "execution_count": 5
        }
      ]
    },
    {
      "cell_type": "markdown",
      "metadata": {
        "id": "Usnerc7ny213"
      },
      "source": [
        "Therefore, we are not certain (at the 95% confidence level) whether our candidate will win the election, even though his or her expected vote share is greater than 50 percent.\n",
        "\n",
        "Finally, note that due to how polling is conducted, there may be biases in the samples that will affect our result above, but we will ignore them here."
      ]
    }
  ]
}